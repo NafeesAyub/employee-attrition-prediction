{
 "cells": [
  {
   "cell_type": "markdown",
   "metadata": {},
   "source": [
    "# Employee Attrition Prediction — Modeling\n",
    "\n",
    "This notebook builds predictive models for employee attrition using the IBM HR Analytics dataset. We will:\n",
    "1) preprocess data, 2) train baseline and tuned models, 3) evaluate with multiple metrics, and 4) extract business insights."
   ]
  },
  {
   "cell_type": "code",
   "execution_count": 1,
   "metadata": {},
   "outputs": [],
   "source": [
    "# ✅ Step 0: Imports and settings\n",
    "import pandas as pd\n",
    "import numpy as np\n",
    "import matplotlib.pyplot as plt\n",
    "\n",
    "from sklearn.model_selection import train_test_split, StratifiedKFold, cross_val_score\n",
    "from sklearn.compose import ColumnTransformer\n",
    "from sklearn.preprocessing import OneHotEncoder, StandardScaler\n",
    "from sklearn.pipeline import Pipeline\n",
    "from sklearn.linear_model import LogisticRegression\n",
    "from sklearn.ensemble import RandomForestClassifier\n",
    "from sklearn.metrics import (\n",
    "    accuracy_score, precision_score, recall_score, f1_score, roc_auc_score,\n",
    "    confusion_matrix, RocCurveDisplay, classification_report\n",
    ")\n",
    "from sklearn.utils import Bunch\n",
    "import os\n",
    "\n",
    "# Reproducibility\n",
    "RANDOM_STATE = 42\n",
    "np.random.seed(RANDOM_STATE)\n",
    "\n",
    "pd.set_option('display.max_columns', 200)"
   ]
  },
  {
   "cell_type": "markdown",
   "metadata": {},
   "source": [
    "## Step 1: Load dataset"
   ]
  },
  {
   "cell_type": "code",
   "execution_count": 2,
   "metadata": {},
   "outputs": [
    {
     "name": "stdout",
     "output_type": "stream",
     "text": [
      "(1470, 35)\n"
     ]
    },
    {
     "data": {
      "text/html": [
       "<div>\n",
       "<style scoped>\n",
       "    .dataframe tbody tr th:only-of-type {\n",
       "        vertical-align: middle;\n",
       "    }\n",
       "\n",
       "    .dataframe tbody tr th {\n",
       "        vertical-align: top;\n",
       "    }\n",
       "\n",
       "    .dataframe thead th {\n",
       "        text-align: right;\n",
       "    }\n",
       "</style>\n",
       "<table border=\"1\" class=\"dataframe\">\n",
       "  <thead>\n",
       "    <tr style=\"text-align: right;\">\n",
       "      <th></th>\n",
       "      <th>Age</th>\n",
       "      <th>Attrition</th>\n",
       "      <th>BusinessTravel</th>\n",
       "      <th>DailyRate</th>\n",
       "      <th>Department</th>\n",
       "      <th>DistanceFromHome</th>\n",
       "      <th>Education</th>\n",
       "      <th>EducationField</th>\n",
       "      <th>EmployeeCount</th>\n",
       "      <th>EmployeeNumber</th>\n",
       "      <th>EnvironmentSatisfaction</th>\n",
       "      <th>Gender</th>\n",
       "      <th>HourlyRate</th>\n",
       "      <th>JobInvolvement</th>\n",
       "      <th>JobLevel</th>\n",
       "      <th>JobRole</th>\n",
       "      <th>JobSatisfaction</th>\n",
       "      <th>MaritalStatus</th>\n",
       "      <th>MonthlyIncome</th>\n",
       "      <th>MonthlyRate</th>\n",
       "      <th>NumCompaniesWorked</th>\n",
       "      <th>Over18</th>\n",
       "      <th>OverTime</th>\n",
       "      <th>PercentSalaryHike</th>\n",
       "      <th>PerformanceRating</th>\n",
       "      <th>RelationshipSatisfaction</th>\n",
       "      <th>StandardHours</th>\n",
       "      <th>StockOptionLevel</th>\n",
       "      <th>TotalWorkingYears</th>\n",
       "      <th>TrainingTimesLastYear</th>\n",
       "      <th>WorkLifeBalance</th>\n",
       "      <th>YearsAtCompany</th>\n",
       "      <th>YearsInCurrentRole</th>\n",
       "      <th>YearsSinceLastPromotion</th>\n",
       "      <th>YearsWithCurrManager</th>\n",
       "    </tr>\n",
       "  </thead>\n",
       "  <tbody>\n",
       "    <tr>\n",
       "      <th>0</th>\n",
       "      <td>41</td>\n",
       "      <td>Yes</td>\n",
       "      <td>Travel_Rarely</td>\n",
       "      <td>1102</td>\n",
       "      <td>Sales</td>\n",
       "      <td>1</td>\n",
       "      <td>2</td>\n",
       "      <td>Life Sciences</td>\n",
       "      <td>1</td>\n",
       "      <td>1</td>\n",
       "      <td>2</td>\n",
       "      <td>Female</td>\n",
       "      <td>94</td>\n",
       "      <td>3</td>\n",
       "      <td>2</td>\n",
       "      <td>Sales Executive</td>\n",
       "      <td>4</td>\n",
       "      <td>Single</td>\n",
       "      <td>5993</td>\n",
       "      <td>19479</td>\n",
       "      <td>8</td>\n",
       "      <td>Y</td>\n",
       "      <td>Yes</td>\n",
       "      <td>11</td>\n",
       "      <td>3</td>\n",
       "      <td>1</td>\n",
       "      <td>80</td>\n",
       "      <td>0</td>\n",
       "      <td>8</td>\n",
       "      <td>0</td>\n",
       "      <td>1</td>\n",
       "      <td>6</td>\n",
       "      <td>4</td>\n",
       "      <td>0</td>\n",
       "      <td>5</td>\n",
       "    </tr>\n",
       "    <tr>\n",
       "      <th>1</th>\n",
       "      <td>49</td>\n",
       "      <td>No</td>\n",
       "      <td>Travel_Frequently</td>\n",
       "      <td>279</td>\n",
       "      <td>Research &amp; Development</td>\n",
       "      <td>8</td>\n",
       "      <td>1</td>\n",
       "      <td>Life Sciences</td>\n",
       "      <td>1</td>\n",
       "      <td>2</td>\n",
       "      <td>3</td>\n",
       "      <td>Male</td>\n",
       "      <td>61</td>\n",
       "      <td>2</td>\n",
       "      <td>2</td>\n",
       "      <td>Research Scientist</td>\n",
       "      <td>2</td>\n",
       "      <td>Married</td>\n",
       "      <td>5130</td>\n",
       "      <td>24907</td>\n",
       "      <td>1</td>\n",
       "      <td>Y</td>\n",
       "      <td>No</td>\n",
       "      <td>23</td>\n",
       "      <td>4</td>\n",
       "      <td>4</td>\n",
       "      <td>80</td>\n",
       "      <td>1</td>\n",
       "      <td>10</td>\n",
       "      <td>3</td>\n",
       "      <td>3</td>\n",
       "      <td>10</td>\n",
       "      <td>7</td>\n",
       "      <td>1</td>\n",
       "      <td>7</td>\n",
       "    </tr>\n",
       "    <tr>\n",
       "      <th>2</th>\n",
       "      <td>37</td>\n",
       "      <td>Yes</td>\n",
       "      <td>Travel_Rarely</td>\n",
       "      <td>1373</td>\n",
       "      <td>Research &amp; Development</td>\n",
       "      <td>2</td>\n",
       "      <td>2</td>\n",
       "      <td>Other</td>\n",
       "      <td>1</td>\n",
       "      <td>4</td>\n",
       "      <td>4</td>\n",
       "      <td>Male</td>\n",
       "      <td>92</td>\n",
       "      <td>2</td>\n",
       "      <td>1</td>\n",
       "      <td>Laboratory Technician</td>\n",
       "      <td>3</td>\n",
       "      <td>Single</td>\n",
       "      <td>2090</td>\n",
       "      <td>2396</td>\n",
       "      <td>6</td>\n",
       "      <td>Y</td>\n",
       "      <td>Yes</td>\n",
       "      <td>15</td>\n",
       "      <td>3</td>\n",
       "      <td>2</td>\n",
       "      <td>80</td>\n",
       "      <td>0</td>\n",
       "      <td>7</td>\n",
       "      <td>3</td>\n",
       "      <td>3</td>\n",
       "      <td>0</td>\n",
       "      <td>0</td>\n",
       "      <td>0</td>\n",
       "      <td>0</td>\n",
       "    </tr>\n",
       "    <tr>\n",
       "      <th>3</th>\n",
       "      <td>33</td>\n",
       "      <td>No</td>\n",
       "      <td>Travel_Frequently</td>\n",
       "      <td>1392</td>\n",
       "      <td>Research &amp; Development</td>\n",
       "      <td>3</td>\n",
       "      <td>4</td>\n",
       "      <td>Life Sciences</td>\n",
       "      <td>1</td>\n",
       "      <td>5</td>\n",
       "      <td>4</td>\n",
       "      <td>Female</td>\n",
       "      <td>56</td>\n",
       "      <td>3</td>\n",
       "      <td>1</td>\n",
       "      <td>Research Scientist</td>\n",
       "      <td>3</td>\n",
       "      <td>Married</td>\n",
       "      <td>2909</td>\n",
       "      <td>23159</td>\n",
       "      <td>1</td>\n",
       "      <td>Y</td>\n",
       "      <td>Yes</td>\n",
       "      <td>11</td>\n",
       "      <td>3</td>\n",
       "      <td>3</td>\n",
       "      <td>80</td>\n",
       "      <td>0</td>\n",
       "      <td>8</td>\n",
       "      <td>3</td>\n",
       "      <td>3</td>\n",
       "      <td>8</td>\n",
       "      <td>7</td>\n",
       "      <td>3</td>\n",
       "      <td>0</td>\n",
       "    </tr>\n",
       "    <tr>\n",
       "      <th>4</th>\n",
       "      <td>27</td>\n",
       "      <td>No</td>\n",
       "      <td>Travel_Rarely</td>\n",
       "      <td>591</td>\n",
       "      <td>Research &amp; Development</td>\n",
       "      <td>2</td>\n",
       "      <td>1</td>\n",
       "      <td>Medical</td>\n",
       "      <td>1</td>\n",
       "      <td>7</td>\n",
       "      <td>1</td>\n",
       "      <td>Male</td>\n",
       "      <td>40</td>\n",
       "      <td>3</td>\n",
       "      <td>1</td>\n",
       "      <td>Laboratory Technician</td>\n",
       "      <td>2</td>\n",
       "      <td>Married</td>\n",
       "      <td>3468</td>\n",
       "      <td>16632</td>\n",
       "      <td>9</td>\n",
       "      <td>Y</td>\n",
       "      <td>No</td>\n",
       "      <td>12</td>\n",
       "      <td>3</td>\n",
       "      <td>4</td>\n",
       "      <td>80</td>\n",
       "      <td>1</td>\n",
       "      <td>6</td>\n",
       "      <td>3</td>\n",
       "      <td>3</td>\n",
       "      <td>2</td>\n",
       "      <td>2</td>\n",
       "      <td>2</td>\n",
       "      <td>2</td>\n",
       "    </tr>\n",
       "  </tbody>\n",
       "</table>\n",
       "</div>"
      ],
      "text/plain": [
       "   Age Attrition     BusinessTravel  DailyRate              Department  \\\n",
       "0   41       Yes      Travel_Rarely       1102                   Sales   \n",
       "1   49        No  Travel_Frequently        279  Research & Development   \n",
       "2   37       Yes      Travel_Rarely       1373  Research & Development   \n",
       "3   33        No  Travel_Frequently       1392  Research & Development   \n",
       "4   27        No      Travel_Rarely        591  Research & Development   \n",
       "\n",
       "   DistanceFromHome  Education EducationField  EmployeeCount  EmployeeNumber  \\\n",
       "0                 1          2  Life Sciences              1               1   \n",
       "1                 8          1  Life Sciences              1               2   \n",
       "2                 2          2          Other              1               4   \n",
       "3                 3          4  Life Sciences              1               5   \n",
       "4                 2          1        Medical              1               7   \n",
       "\n",
       "   EnvironmentSatisfaction  Gender  HourlyRate  JobInvolvement  JobLevel  \\\n",
       "0                        2  Female          94               3         2   \n",
       "1                        3    Male          61               2         2   \n",
       "2                        4    Male          92               2         1   \n",
       "3                        4  Female          56               3         1   \n",
       "4                        1    Male          40               3         1   \n",
       "\n",
       "                 JobRole  JobSatisfaction MaritalStatus  MonthlyIncome  \\\n",
       "0        Sales Executive                4        Single           5993   \n",
       "1     Research Scientist                2       Married           5130   \n",
       "2  Laboratory Technician                3        Single           2090   \n",
       "3     Research Scientist                3       Married           2909   \n",
       "4  Laboratory Technician                2       Married           3468   \n",
       "\n",
       "   MonthlyRate  NumCompaniesWorked Over18 OverTime  PercentSalaryHike  \\\n",
       "0        19479                   8      Y      Yes                 11   \n",
       "1        24907                   1      Y       No                 23   \n",
       "2         2396                   6      Y      Yes                 15   \n",
       "3        23159                   1      Y      Yes                 11   \n",
       "4        16632                   9      Y       No                 12   \n",
       "\n",
       "   PerformanceRating  RelationshipSatisfaction  StandardHours  \\\n",
       "0                  3                         1             80   \n",
       "1                  4                         4             80   \n",
       "2                  3                         2             80   \n",
       "3                  3                         3             80   \n",
       "4                  3                         4             80   \n",
       "\n",
       "   StockOptionLevel  TotalWorkingYears  TrainingTimesLastYear  \\\n",
       "0                 0                  8                      0   \n",
       "1                 1                 10                      3   \n",
       "2                 0                  7                      3   \n",
       "3                 0                  8                      3   \n",
       "4                 1                  6                      3   \n",
       "\n",
       "   WorkLifeBalance  YearsAtCompany  YearsInCurrentRole  \\\n",
       "0                1               6                   4   \n",
       "1                3              10                   7   \n",
       "2                3               0                   0   \n",
       "3                3               8                   7   \n",
       "4                3               2                   2   \n",
       "\n",
       "   YearsSinceLastPromotion  YearsWithCurrManager  \n",
       "0                        0                     5  \n",
       "1                        1                     7  \n",
       "2                        0                     0  \n",
       "3                        3                     0  \n",
       "4                        2                     2  "
      ]
     },
     "execution_count": 2,
     "metadata": {},
     "output_type": "execute_result"
    }
   ],
   "source": [
    "DATA_PATH = \"../data/WA_Fn-UseC_-HR-Employee-Attrition.csv\"\n",
    "df = pd.read_csv(DATA_PATH)\n",
    "print(df.shape)\n",
    "df.head()"
   ]
  },
  {
   "cell_type": "markdown",
   "metadata": {},
   "source": [
    "## Step 2: Minimal preprocessing\n",
    "\n",
    "- Map Yes/No columns to 1/0 (including the target `Attrition`).\n",
    "- Separate features (X) and target (y).\n",
    "- Identify numeric and categorical columns for transformers."
   ]
  },
  {
   "cell_type": "code",
   "execution_count": 3,
   "metadata": {},
   "outputs": [
    {
     "name": "stdout",
     "output_type": "stream",
     "text": [
      "Numeric features: 27\n",
      "Categorical features: 7\n"
     ]
    }
   ],
   "source": [
    "df_prep = df.copy()\n",
    "\n",
    "# Map all strictly Yes/No object columns to 1/0\n",
    "yn_cols = [\n",
    "    c for c in df_prep.select_dtypes(include='object').columns\n",
    "    if df_prep[c].dropna().isin(['Yes', 'No']).all()\n",
    "]\n",
    "for c in yn_cols:\n",
    "    df_prep[c] = df_prep[c].map({'Yes': 1, 'No': 0})\n",
    "\n",
    "# Target\n",
    "target_col = 'Attrition'\n",
    "if df_prep[target_col].dtype == 'O':\n",
    "    df_prep[target_col] = df_prep[target_col].map({'Yes': 1, 'No': 0})\n",
    "\n",
    "y = df_prep[target_col]\n",
    "X = df_prep.drop(columns=[target_col])\n",
    "\n",
    "# Identify column types\n",
    "numeric_features = X.select_dtypes(include=['number']).columns.tolist()\n",
    "categorical_features = X.select_dtypes(include=['object']).columns.tolist()\n",
    "\n",
    "print(\"Numeric features:\", len(numeric_features))\n",
    "print(\"Categorical features:\", len(categorical_features))"
   ]
  },
  {
   "cell_type": "markdown",
   "metadata": {},
   "source": [
    "## Step 3: Train–test split"
   ]
  },
  {
   "cell_type": "code",
   "execution_count": 4,
   "metadata": {},
   "outputs": [
    {
     "data": {
      "text/plain": [
       "((1176, 34), (294, 34))"
      ]
     },
     "execution_count": 4,
     "metadata": {},
     "output_type": "execute_result"
    }
   ],
   "source": [
    "X_train, X_test, y_train, y_test = train_test_split(\n",
    "    X, y, test_size=0.2, stratify=y, random_state=RANDOM_STATE\n",
    ")\n",
    "X_train.shape, X_test.shape"
   ]
  },
  {
   "cell_type": "markdown",
   "metadata": {},
   "source": [
    "## Step 4: Preprocessing pipelines\n",
    "- Scale numeric features (standardization)\n",
    "- One-hot encode categorical features\n",
    "- Use `ColumnTransformer` to apply both"
   ]
  },
  {
   "cell_type": "code",
   "execution_count": 5,
   "metadata": {},
   "outputs": [],
   "source": [
    "numeric_transformer = Pipeline(steps=[\n",
    "    ('scaler', StandardScaler())\n",
    "])\n",
    "\n",
    "categorical_transformer = Pipeline(steps=[\n",
    "    ('onehot', OneHotEncoder(handle_unknown='ignore', sparse_output=False))\n",
    "])\n",
    "\n",
    "preprocessor = ColumnTransformer(\n",
    "    transformers=[\n",
    "        ('num', numeric_transformer, numeric_features),\n",
    "        ('cat', categorical_transformer, categorical_features)\n",
    "    ]\n",
    ")"
   ]
  },
  {
   "cell_type": "markdown",
   "metadata": {},
   "source": [
    "## Step 5: Baseline models\n",
    "We will train two strong baselines:\n",
    "- **Logistic Regression** (with class weights for imbalance)\n",
    "- **Random Forest** (with balanced class weight)"
   ]
  },
  {
   "cell_type": "code",
   "execution_count": 6,
   "metadata": {},
   "outputs": [
    {
     "data": {
      "text/plain": [
       "{'log_reg': Pipeline(steps=[('preprocess',\n",
       "                  ColumnTransformer(transformers=[('num',\n",
       "                                                   Pipeline(steps=[('scaler',\n",
       "                                                                    StandardScaler())]),\n",
       "                                                   ['Age', 'DailyRate',\n",
       "                                                    'DistanceFromHome',\n",
       "                                                    'Education', 'EmployeeCount',\n",
       "                                                    'EmployeeNumber',\n",
       "                                                    'EnvironmentSatisfaction',\n",
       "                                                    'HourlyRate',\n",
       "                                                    'JobInvolvement', 'JobLevel',\n",
       "                                                    'JobSatisfaction',\n",
       "                                                    'MonthlyIncome',\n",
       "                                                    'MonthlyRate',\n",
       "                                                    'NumCompaniesWorked',\n",
       "                                                    'OverTime',\n",
       "                                                    'Perc...\n",
       "                                                    'YearsAtCompany',\n",
       "                                                    'YearsInCurrentRole',\n",
       "                                                    'YearsSinceLastPromotion',\n",
       "                                                    'YearsWithCurrManager']),\n",
       "                                                  ('cat',\n",
       "                                                   Pipeline(steps=[('onehot',\n",
       "                                                                    OneHotEncoder(handle_unknown='ignore',\n",
       "                                                                                  sparse_output=False))]),\n",
       "                                                   ['BusinessTravel',\n",
       "                                                    'Department',\n",
       "                                                    'EducationField', 'Gender',\n",
       "                                                    'JobRole', 'MaritalStatus',\n",
       "                                                    'Over18'])])),\n",
       "                 ('model',\n",
       "                  LogisticRegression(class_weight='balanced', max_iter=2000,\n",
       "                                     random_state=42))]),\n",
       " 'rf': Pipeline(steps=[('preprocess',\n",
       "                  ColumnTransformer(transformers=[('num',\n",
       "                                                   Pipeline(steps=[('scaler',\n",
       "                                                                    StandardScaler())]),\n",
       "                                                   ['Age', 'DailyRate',\n",
       "                                                    'DistanceFromHome',\n",
       "                                                    'Education', 'EmployeeCount',\n",
       "                                                    'EmployeeNumber',\n",
       "                                                    'EnvironmentSatisfaction',\n",
       "                                                    'HourlyRate',\n",
       "                                                    'JobInvolvement', 'JobLevel',\n",
       "                                                    'JobSatisfaction',\n",
       "                                                    'MonthlyIncome',\n",
       "                                                    'MonthlyRate',\n",
       "                                                    'NumCompaniesWorked',\n",
       "                                                    'OverTime',\n",
       "                                                    'Perc...\n",
       "                                                    'YearsSinceLastPromotion',\n",
       "                                                    'YearsWithCurrManager']),\n",
       "                                                  ('cat',\n",
       "                                                   Pipeline(steps=[('onehot',\n",
       "                                                                    OneHotEncoder(handle_unknown='ignore',\n",
       "                                                                                  sparse_output=False))]),\n",
       "                                                   ['BusinessTravel',\n",
       "                                                    'Department',\n",
       "                                                    'EducationField', 'Gender',\n",
       "                                                    'JobRole', 'MaritalStatus',\n",
       "                                                    'Over18'])])),\n",
       "                 ('model',\n",
       "                  RandomForestClassifier(class_weight='balanced_subsample',\n",
       "                                         n_estimators=400, n_jobs=-1,\n",
       "                                         random_state=42))])}"
      ]
     },
     "execution_count": 6,
     "metadata": {},
     "output_type": "execute_result"
    }
   ],
   "source": [
    "log_reg = Pipeline(steps=[\n",
    "    ('preprocess', preprocessor),\n",
    "    ('model', LogisticRegression(max_iter=2000, class_weight='balanced', random_state=RANDOM_STATE))\n",
    "])\n",
    "\n",
    "rf_clf = Pipeline(steps=[\n",
    "    ('preprocess', preprocessor),\n",
    "    ('model', RandomForestClassifier(\n",
    "        n_estimators=400,\n",
    "        max_depth=None,\n",
    "        class_weight='balanced_subsample',\n",
    "        random_state=RANDOM_STATE,\n",
    "        n_jobs=-1\n",
    "    ))\n",
    "])\n",
    "\n",
    "models = Bunch(log_reg=log_reg, rf=rf_clf)\n",
    "models"
   ]
  },
  {
   "cell_type": "markdown",
   "metadata": {},
   "source": [
    "## Step 6: Fit models and evaluate"
   ]
  },
  {
   "cell_type": "code",
   "execution_count": 12,
   "metadata": {},
   "outputs": [
    {
     "name": "stdout",
     "output_type": "stream",
     "text": [
      "\n",
      "=== Logistic Regression ===\n",
      "Accuracy : 0.745\n",
      "Precision: 0.341\n",
      "Recall   : 0.638\n",
      "F1-Score : 0.444\n",
      "ROC-AUC  : 0.798\n",
      "\n",
      "Classification Report:\n",
      "               precision    recall  f1-score   support\n",
      "\n",
      "           0       0.92      0.77      0.83       247\n",
      "           1       0.34      0.64      0.44        47\n",
      "\n",
      "    accuracy                           0.74       294\n",
      "   macro avg       0.63      0.70      0.64       294\n",
      "weighted avg       0.83      0.74      0.77       294\n",
      "\n"
     ]
    },
    {
     "data": {
      "image/png": "[encoded data removed]",
      "text/plain": [
       "<Figure size 400x400 with 2 Axes>"
      ]
     },
     "metadata": {},
     "output_type": "display_data"
    },
    {
     "data": {
      "image/png": "[encoded data removed]",
      "text/plain": [
       "<Figure size 640x480 with 1 Axes>"
      ]
     },
     "metadata": {},
     "output_type": "display_data"
    },
    {
     "name": "stdout",
     "output_type": "stream",
     "text": [
      "\n",
      "=== Random Forest ===\n",
      "Accuracy : 0.844\n",
      "Precision: 0.571\n",
      "Recall   : 0.085\n",
      "F1-Score : 0.148\n",
      "ROC-AUC  : 0.786\n",
      "\n",
      "Classification Report:\n",
      "               precision    recall  f1-score   support\n",
      "\n",
      "           0       0.85      0.99      0.91       247\n",
      "           1       0.57      0.09      0.15        47\n",
      "\n",
      "    accuracy                           0.84       294\n",
      "   macro avg       0.71      0.54      0.53       294\n",
      "weighted avg       0.81      0.84      0.79       294\n",
      "\n"
     ]
    },
    {
     "data": {
      "image/png": "[encoded data removed]",
      "text/plain": [
       "<Figure size 400x400 with 2 Axes>"
      ]
     },
     "metadata": {},
     "output_type": "display_data"
    },
    {
     "data": {
      "image/png": "[encoded data removed]",
      "text/plain": [
       "<Figure size 640x480 with 1 Axes>"
      ]
     },
     "metadata": {},
     "output_type": "display_data"
    }
   ],
   "source": [
    "def evaluate_model(clf, X_train, y_train, X_test, y_test, name=\"model\"):\n",
    "    clf.fit(X_train, y_train)\n",
    "    y_pred = clf.predict(X_test)\n",
    "    if hasattr(clf, \"predict_proba\"):\n",
    "        y_proba = clf.predict_proba(X_test)[:, 1]\n",
    "    else:\n",
    "        # Fallback for models without predict_proba\n",
    "        try:\n",
    "            y_proba = clf.decision_function(X_test)\n",
    "            # scale to 0-1\n",
    "            y_proba = (y_proba - y_proba.min()) / (y_proba.max() - y_proba.min() + 1e-9)\n",
    "        except Exception:\n",
    "            y_proba = None\n",
    "\n",
    "    acc = accuracy_score(y_test, y_pred)\n",
    "    prec = precision_score(y_test, y_pred)\n",
    "    rec = recall_score(y_test, y_pred)\n",
    "    f1 = f1_score(y_test, y_pred)\n",
    "    roc = roc_auc_score(y_test, y_proba) if y_proba is not None else np.nan\n",
    "\n",
    "    print(f\"\\n=== {name} ===\")\n",
    "    print(f\"Accuracy : {acc:.3f}\")\n",
    "    print(f\"Precision: {prec:.3f}\")\n",
    "    print(f\"Recall   : {rec:.3f}\")\n",
    "    print(f\"F1-Score : {f1:.3f}\")\n",
    "    print(f\"ROC-AUC  : {roc:.3f}\")\n",
    "    print(\"\\nClassification Report:\\n\", classification_report(y_test, y_pred))\n",
    "\n",
    "    # Confusion matrix\n",
    "    cm = confusion_matrix(y_test, y_pred)\n",
    "    fig = plt.figure(figsize=(4, 4))\n",
    "    plt.imshow(cm, interpolation='nearest')\n",
    "    plt.title(f\"Confusion Matrix — {name}\")\n",
    "    plt.colorbar()\n",
    "    tick_marks = np.arange(2)\n",
    "    plt.xticks(tick_marks, ['No', 'Yes'])\n",
    "    plt.yticks(tick_marks, ['No', 'Yes'])\n",
    "    plt.xlabel('Predicted')\n",
    "    plt.ylabel('True')\n",
    "    plt.tight_layout()\n",
    "\n",
    "    # Save the plot into visuals folder\n",
    "    plt.savefig(\"../visuals/confusion_matrix.png\", dpi=300, bbox_inches=\"tight\")\n",
    "    \n",
    "    plt.show()\n",
    "\n",
    "    # ROC Curve (if proba available)\n",
    "    if y_proba is not None:\n",
    "        RocCurveDisplay.from_predictions(y_test, y_proba)\n",
    "        plt.title(f\"ROC Curve — {name}\")\n",
    "        plt.show()\n",
    "\n",
    "    return clf\n",
    "\n",
    "# Train & evaluate\n",
    "clf_log_reg = evaluate_model(models.log_reg, X_train, y_train, X_test, y_test, name=\"Logistic Regression\")\n",
    "clf_rf = evaluate_model(models.rf, X_train, y_train, X_test, y_test, name=\"Random Forest\")"
   ]
  },
  {
   "cell_type": "markdown",
   "metadata": {},
   "source": [
    "## Step 7: Cross-validation (optional but recommended)\n",
    "This provides a more robust estimate of generalization performance."
   ]
  },
  {
   "cell_type": "code",
   "execution_count": 8,
   "metadata": {},
   "outputs": [
    {
     "name": "stdout",
     "output_type": "stream",
     "text": [
      "LogReg ROC-AUC CV: mean=0.824 +/- 0.023\n",
      "RF ROC-AUC CV: mean=0.811 +/- 0.025\n"
     ]
    }
   ],
   "source": [
    "cv = StratifiedKFold(n_splits=5, shuffle=True, random_state=RANDOM_STATE)\n",
    "for name, pipe in [(\"LogReg\", models.log_reg), (\"RF\", models.rf)]:\n",
    "    aucs = cross_val_score(pipe, X, y, scoring='roc_auc', cv=cv, n_jobs=-1)\n",
    "    print(f\"{name} ROC-AUC CV: mean={aucs.mean():.3f} +/- {aucs.std():.3f}\")"
   ]
  },
  {
   "cell_type": "markdown",
   "metadata": {},
   "source": [
    "## Step 8: Feature importance / drivers of attrition\n",
    "We'll extract the most important features from both models.\n",
    "\n",
    "⚠️ Note: For Logistic Regression, coefficients are in the transformed feature space (after one-hot encoding/scaling)."
   ]
  },
  {
   "cell_type": "code",
   "execution_count": 9,
   "metadata": {},
   "outputs": [
    {
     "name": "stdout",
     "output_type": "stream",
     "text": [
      "Top 15 (absolute) Logistic Regression coefficients:\n"
     ]
    },
    {
     "data": {
      "text/plain": [
       "JobRole_Research Director           -1.441895\n",
       "JobRole_Laboratory Technician        1.211451\n",
       "JobRole_Sales Representative         1.102117\n",
       "BusinessTravel_Non-Travel           -0.953049\n",
       "BusinessTravel_Travel_Frequently     0.825375\n",
       "EducationField_Other                -0.798075\n",
       "OverTime                             0.758214\n",
       "EducationField_Human Resources       0.737536\n",
       "JobRole_Healthcare Representative   -0.631096\n",
       "TotalWorkingYears                   -0.616774\n",
       "JobLevel                             0.606242\n",
       "JobRole_Human Resources              0.510970\n",
       "YearsSinceLastPromotion              0.501397\n",
       "MaritalStatus_Single                 0.487192\n",
       "NumCompaniesWorked                   0.464059\n",
       "dtype: float64"
      ]
     },
     "metadata": {},
     "output_type": "display_data"
    },
    {
     "name": "stdout",
     "output_type": "stream",
     "text": [
      "Top 15 Random Forest feature importances:\n"
     ]
    },
    {
     "data": {
      "text/plain": [
       "MonthlyIncome           0.068995\n",
       "Age                     0.058692\n",
       "TotalWorkingYears       0.051444\n",
       "DailyRate               0.049650\n",
       "YearsAtCompany          0.044295\n",
       "EmployeeNumber          0.043787\n",
       "MonthlyRate             0.041592\n",
       "OverTime                0.041501\n",
       "DistanceFromHome        0.041401\n",
       "HourlyRate              0.039994\n",
       "YearsWithCurrManager    0.038606\n",
       "NumCompaniesWorked      0.033973\n",
       "YearsInCurrentRole      0.030068\n",
       "StockOptionLevel        0.030014\n",
       "PercentSalaryHike       0.029593\n",
       "dtype: float64"
      ]
     },
     "metadata": {},
     "output_type": "display_data"
    },
    {
     "data": {
      "image/png": "[encoded data removed]",
      "text/plain": [
       "<Figure size 800x600 with 1 Axes>"
      ]
     },
     "metadata": {},
     "output_type": "display_data"
    }
   ],
   "source": [
    "def get_feature_names(preprocessor):\n",
    "    \"\"\"Return transformed feature names after ColumnTransformer.\"\"\"\n",
    "    names = []\n",
    "    # numeric names\n",
    "    num_features = preprocessor.named_transformers_['num'].feature_names_in_\n",
    "    names.extend(num_features)\n",
    "    # categorical names from onehot\n",
    "    ohe = preprocessor.named_transformers_['cat'].named_steps['onehot']\n",
    "    cat_base = preprocessor.transformers_[1][2]  # list of categorical col names\n",
    "    ohe_names = ohe.get_feature_names_out(cat_base)\n",
    "    names.extend(ohe_names)\n",
    "    return names\n",
    "\n",
    "# Fit fresh models to access internals\n",
    "clf_log_reg.fit(X_train, y_train)\n",
    "clf_rf.fit(X_train, y_train)\n",
    "\n",
    "feature_names = get_feature_names(clf_log_reg.named_steps['preprocess'])\n",
    "\n",
    "# Logistic Regression coefficients\n",
    "lr_coef = clf_log_reg.named_steps['model'].coef_.ravel()\n",
    "imp_lr = pd.Series(lr_coef, index=feature_names).sort_values(key=lambda s: s.abs(), ascending=False)\n",
    "print(\"Top 15 (absolute) Logistic Regression coefficients:\")\n",
    "display(imp_lr.head(15))\n",
    "\n",
    "# Random Forest importances\n",
    "rf_imp = clf_rf.named_steps['model'].feature_importances_\n",
    "imp_rf = pd.Series(rf_imp, index=feature_names).sort_values(ascending=False)\n",
    "print(\"Top 15 Random Forest feature importances:\")\n",
    "display(imp_rf.head(15))\n",
    "\n",
    "# Plot top 15 from RF\n",
    "top_rf = imp_rf.head(15)[::-1]\n",
    "plt.figure(figsize=(8, 6))\n",
    "plt.barh(top_rf.index, top_rf.values)\n",
    "plt.title('Top 15 Random Forest Feature Importances')\n",
    "plt.xlabel('Importance')\n",
    "plt.ylabel('Feature')\n",
    "plt.tight_layout()\n",
    "plt.show()"
   ]
  },
  {
   "cell_type": "markdown",
   "metadata": {},
   "source": [
    "## Step 9: Business insights (template)\n",
    "Use the findings to propose HR actions.\n",
    "\n",
    "- **High overtime** and **low job satisfaction** appear as strong drivers of attrition.\n",
    "- **Early-career roles** combined with **lower income** may correlate with higher risk.\n",
    "- **Actionable levers**: schedule flexibility, workload balancing, targeted engagement programs, and compensation review."
   ]
  },
  {
   "cell_type": "markdown",
   "metadata": {},
   "source": [
    "## Step 10 (Optional): Save best model\n",
    "If desired, persist a trained pipeline for later use (e.g., in a web app or batch scoring)."
   ]
  },
  {
   "cell_type": "code",
   "execution_count": 10,
   "metadata": {},
   "outputs": [
    {
     "name": "stdout",
     "output_type": "stream",
     "text": [
      "Model save skipped: name 'Path' is not defined\n"
     ]
    }
   ],
   "source": [
    "try:\n",
    "    import joblib\n",
    "    Path('../models').mkdir(parents=True, exist_ok=True)\n",
    "    joblib.dump(clf_rf, '../models/attrition_rf_pipeline.joblib')\n",
    "    print('Saved: ../models/attrition_rf_pipeline.joblib')\n",
    "except Exception as e:\n",
    "    print('Model save skipped:', e)"
   ]
  },
  {
   "cell_type": "code",
   "execution_count": 11,
   "metadata": {},
   "outputs": [
    {
     "data": {
      "text/plain": [
       "<Figure size 640x480 with 0 Axes>"
      ]
     },
     "metadata": {},
     "output_type": "display_data"
    }
   ],
   "source": [
    "plt.savefig(\"../visuals/correlation_heatmap.png\", dpi=300, bbox_inches=\"tight\")"
   ]
  },
  {
   "cell_type": "code",
   "execution_count": null,
   "metadata": {},
   "outputs": [],
   "source": []
  }
 ],
 "metadata": {
  "kernelspec": {
   "display_name": "Python 3 (ipykernel)",
   "language": "python",
   "name": "python3"
  },
  "language_info": {
   "codemirror_mode": {
    "name": "ipython",
    "version": 3
   },
   "file_extension": ".py",
   "mimetype": "text/x-python",
   "name": "python",
   "nbconvert_exporter": "python",
   "pygments_lexer": "ipython3",
   "version": "3.11.0"
  }
 },
 "nbformat": 4,
 "nbformat_minor": 4
}
